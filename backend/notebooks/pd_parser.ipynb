{
 "cells": [
  {
   "cell_type": "code",
   "execution_count": 57,
   "id": "f32620f8",
   "metadata": {},
   "outputs": [],
   "source": [
    "import re \n",
    "\n",
    "text = '''\n",
    "17/12/2020\n",
    "\n",
    "Patient Medical Record\n",
    "\n",
    "Patient Information Birth Date\n",
    "Kathy Crawford May 6 1972\n",
    "(737) 988-0851 Weight’\n",
    "9264 Ash Dr 95\n",
    "New York City, 10005 .\n",
    "United States Height:\n",
    "190\n",
    "In Casc of Emergency\n",
    "7 ee\n",
    "Simeone Crawford 9266 Ash Dr\n",
    "New York City, New York, 10005\n",
    "Home phone United States\n",
    "(990) 375-4621\n",
    "Work phone\n",
    "\n",
    "Genera! Medical History\n",
    "\n",
    "a\n",
    "\n",
    "a\n",
    "\n",
    "a ea A CE i a\n",
    "\n",
    "Chicken Pox (Varicella): Measies:\n",
    "\n",
    "IMMUNE IMMUNE\n",
    "\n",
    "Have you had the Hepatitis B vaccination?\n",
    "No\n",
    "\n",
    "List any Medical Problems (asthma, seizures, headaches}:\n",
    "\n",
    "Migraine\n",
    "\n",
    "CO\n",
    "aa\n",
    "\n",
    ".\n",
    "\n",
    "‘Name of Insurance Company:\n",
    "\n",
    "Random Insuarance Company - 4789 Bollinger Rd\n",
    "Jersey City, New Jersey, 07030\n",
    "\n",
    "a Policy Number:\n",
    "ra 1520731 3 Expiry Date:\n",
    "\n",
    ". 30 December 2020\n",
    "Do you have medical insurance?\n",
    "\n",
    "Yes:\n",
    "\n",
    "Medical Insurance Details\n",
    "\n",
    "List any allergies:\n",
    "\n",
    "Peanuts\n",
    "\n",
    "List any medication taken regularly:\n",
    "Triptans'''\n"
   ]
  },
  {
   "cell_type": "code",
   "execution_count": 50,
   "id": "0ec5e636",
   "metadata": {},
   "outputs": [
    {
     "name": "stdout",
     "output_type": "stream",
     "text": [
      "Kathy Crawford\n"
     ]
    }
   ],
   "source": [
    "pattern = 'Patient Information(.*?)\\(\\d{3}\\)'\n",
    "matches = re.findall(pattern,text,flags=re.DOTALL)\n",
    "match = matches[0].strip().replace('Birth Date','')\n",
    "date_pattern = '((Jan|feb|March|April|May|June|July|Aug|Sep|Oct|Nov|Dec)[ \\d]+)'\n",
    "date_matches = re.findall(date_pattern,match)\n",
    "date = date_matches[0][0]\n",
    "match = match.replace(date,'').strip()\n",
    "\n",
    "print(match)"
   ]
  },
  {
   "cell_type": "code",
   "execution_count": 51,
   "id": "5ace2613",
   "metadata": {},
   "outputs": [
    {
     "name": "stdout",
     "output_type": "stream",
     "text": [
      "(737) 988-0851\n"
     ]
    }
   ],
   "source": [
    "pattern = '\\(\\d{3}\\) \\d{3}-\\d{4}'\n",
    "matches = re.findall(pattern,text,flags=re.DOTALL)\n",
    "number = matches[0].strip()\n",
    "print(number)"
   ]
  },
  {
   "cell_type": "code",
   "execution_count": 59,
   "id": "0d76fbf4",
   "metadata": {},
   "outputs": [
    {
     "name": "stdout",
     "output_type": "stream",
     "text": [
      "['Migraine']\n"
     ]
    }
   ],
   "source": [
    "pattern = r'List any Medical Problems.*?:\\s*\\n*(.*)'\n",
    "matches = re.findall(pattern,text)\n",
    "print(matches)"
   ]
  },
  {
   "cell_type": "code",
   "execution_count": 53,
   "id": "6900c15c",
   "metadata": {},
   "outputs": [
    {
     "name": "stdout",
     "output_type": "stream",
     "text": [
      "Yes\n"
     ]
    }
   ],
   "source": [
    "pattern = 'Have you had the Hepatitis B vaccination\\?.*(Yes|No)'\n",
    "matches = re.findall(pattern,text,flags=re.DOTALL)\n",
    "print(matches[0].strip())"
   ]
  },
  {
   "cell_type": "code",
   "execution_count": 54,
   "id": "48b67bbc",
   "metadata": {},
   "outputs": [],
   "source": [
    "text = '''\n",
    "Patient Medical Record\n",
    "\n",
    "Patient Information Birth Date\n",
    "\n",
    "Jerry Lucas May 2 1998\n",
    "\n",
    "(279) 920-8204 Weight:\n",
    "\n",
    "4218 Wheeler Ridge Dr 57\n",
    "\n",
    "Buffalo, New York, 14201 Height:\n",
    "\n",
    "United States gnt\n",
    "170\n",
    "\n",
    "In Case of Emergency\n",
    "\n",
    "eee\n",
    "\n",
    "Joe Lucas . 4218 Wheeler Ridge Dr\n",
    "Buffalo, New York, 14201\n",
    "Home phone United States\n",
    "Work phone\n",
    "\n",
    "General Medical History\n",
    "\n",
    "Chicken Pox (Varicelia): Measles: ..\n",
    "\n",
    "IMMUNE NOT IMMUNE\n",
    "\n",
    "Have you had the Hepatitis B vaccination?\n",
    "\n",
    "‘Yes\n",
    "\n",
    "| List any Medical Problems (asthma, seizures, headaches):\n",
    "N/A\n",
    "\n",
    "7?\n",
    "v\n",
    "\n",
    "17/12/2020\n",
    "\n",
    "\n",
    "_—\n",
    "\n",
    "Name of Insurance Company:\n",
    "Random Insuarance Company\n",
    "\n",
    "Policy Number:\n",
    "5638746258\n",
    "\n",
    "Do you have medical insurance?\n",
    "\n",
    "_ Yes\n",
    "\n",
    "Medical Insurance Details\n",
    "\n",
    "List any allergies:\n",
    "N/A\n",
    "\n",
    "List any medication taken regularly:\n",
    "\n",
    "N/A\n",
    "\n",
    "4218 Smeeler Ridge Dr\n",
    "Buffalo, New York, 14206\n",
    "United States\n",
    "\n",
    "Expiry Date:\n",
    "31 December 2020\n",
    "'''"
   ]
  },
  {
   "cell_type": "code",
   "execution_count": 55,
   "id": "79e14707",
   "metadata": {},
   "outputs": [
    {
     "name": "stdout",
     "output_type": "stream",
     "text": [
      "['N/A']\n"
     ]
    }
   ],
   "source": [
    "pattern = r'List any Medical Problems.*?:\\s*\\n*(.*)'\n",
    "matches = re.findall(pattern,text)\n",
    "print(matches)"
   ]
  }
 ],
 "metadata": {
  "kernelspec": {
   "display_name": "Python 3",
   "language": "python",
   "name": "python3"
  },
  "language_info": {
   "codemirror_mode": {
    "name": "ipython",
    "version": 3
   },
   "file_extension": ".py",
   "mimetype": "text/x-python",
   "name": "python",
   "nbconvert_exporter": "python",
   "pygments_lexer": "ipython3",
   "version": "3.8.10"
  }
 },
 "nbformat": 4,
 "nbformat_minor": 5
}
